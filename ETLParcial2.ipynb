
# Commit 1: actualización automática

# Commit 2: actualización automática
